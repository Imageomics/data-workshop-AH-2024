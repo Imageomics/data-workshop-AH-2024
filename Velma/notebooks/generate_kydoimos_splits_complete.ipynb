{
 "cells": [
  {
   "cell_type": "code",
   "execution_count": 1,
   "metadata": {},
   "outputs": [],
   "source": [
    "import pandas as pd\n",
    "import seaborn as sns\n",
    "\n",
    "# We'll be making splits after cleaning\n",
    "from sklearn.model_selection import train_test_split\n",
    "\n",
    "sns.set_style(\"whitegrid\")"
   ]
  },
  {
   "cell_type": "markdown",
   "metadata": {},
   "source": [
    "# Explore Original Dataset\n",
    "\n",
    "Shaggy pulled his dataset from [johnbradley/Kydoimos](https://huggingface.co/datasets/johnbradley/Kydoimos). There's not much information there, but we can at least look at the original data and sort through it to get a usable dataset. The MD5s from Fred's attempt at re-alignment will be particularly helpful!\n",
    "\n",
    "**DISCLAIMER:** This is a toy example intended to demonstrate real-world challenges in data collection & curation in a digestible format; in reality, more data would be required for such a project."
   ]
  },
  {
   "cell_type": "code",
   "execution_count": 2,
   "metadata": {},
   "outputs": [
    {
     "name": "stdout",
     "output_type": "stream",
     "text": [
      "<class 'pandas.core.frame.DataFrame'>\n",
      "RangeIndex: 110 entries, 0 to 109\n",
      "Data columns (total 8 columns):\n",
      " #   Column               Non-Null Count  Dtype \n",
      "---  ------               --------------  ----- \n",
      " 0   id                   110 non-null    object\n",
      " 1   NHM specimen number  110 non-null    int64 \n",
      " 2   View                 110 non-null    object\n",
      " 3   Species              110 non-null    object\n",
      " 4   Subspecies           110 non-null    object\n",
      " 5   Sex                  110 non-null    object\n",
      " 6   Type Status          2 non-null      object\n",
      " 7   md5                  110 non-null    object\n",
      "dtypes: int64(1), object(7)\n",
      "memory usage: 7.0+ KB\n"
     ]
    }
   ],
   "source": [
    "df = pd.read_csv(\"../data/kydoimos.csv\", low_memory = False)\n",
    "df.info()"
   ]
  },
  {
   "cell_type": "code",
   "execution_count": 3,
   "metadata": {},
   "outputs": [
    {
     "data": {
      "text/html": [
       "<div>\n",
       "<style scoped>\n",
       "    .dataframe tbody tr th:only-of-type {\n",
       "        vertical-align: middle;\n",
       "    }\n",
       "\n",
       "    .dataframe tbody tr th {\n",
       "        vertical-align: top;\n",
       "    }\n",
       "\n",
       "    .dataframe thead th {\n",
       "        text-align: right;\n",
       "    }\n",
       "</style>\n",
       "<table border=\"1\" class=\"dataframe\">\n",
       "  <thead>\n",
       "    <tr style=\"text-align: right;\">\n",
       "      <th></th>\n",
       "      <th>id</th>\n",
       "      <th>NHM specimen number</th>\n",
       "      <th>View</th>\n",
       "      <th>Species</th>\n",
       "      <th>Subspecies</th>\n",
       "      <th>Sex</th>\n",
       "      <th>Type Status</th>\n",
       "      <th>md5</th>\n",
       "    </tr>\n",
       "  </thead>\n",
       "  <tbody>\n",
       "    <tr>\n",
       "      <th>0</th>\n",
       "      <td>KDS000000</td>\n",
       "      <td>10428329</td>\n",
       "      <td>dorsal</td>\n",
       "      <td>melpomene</td>\n",
       "      <td>thelxiopeia</td>\n",
       "      <td>male</td>\n",
       "      <td>NaN</td>\n",
       "      <td>bfe69135302b78cef66df623ddb5befd</td>\n",
       "    </tr>\n",
       "    <tr>\n",
       "      <th>1</th>\n",
       "      <td>KDS000001</td>\n",
       "      <td>10428329</td>\n",
       "      <td>ventral</td>\n",
       "      <td>melpomene</td>\n",
       "      <td>thelxiopeia</td>\n",
       "      <td>male</td>\n",
       "      <td>NaN</td>\n",
       "      <td>c860654219c233d353277b049610bae4</td>\n",
       "    </tr>\n",
       "    <tr>\n",
       "      <th>2</th>\n",
       "      <td>KDS000002</td>\n",
       "      <td>10428331</td>\n",
       "      <td>dorsal</td>\n",
       "      <td>melpomene</td>\n",
       "      <td>thelxiopeia</td>\n",
       "      <td>female</td>\n",
       "      <td>NaN</td>\n",
       "      <td>e721585817681ef60e5d0ab81ca00cfd</td>\n",
       "    </tr>\n",
       "    <tr>\n",
       "      <th>3</th>\n",
       "      <td>KDS000003</td>\n",
       "      <td>10428331</td>\n",
       "      <td>ventral</td>\n",
       "      <td>melpomene</td>\n",
       "      <td>thelxiopeia</td>\n",
       "      <td>female</td>\n",
       "      <td>NaN</td>\n",
       "      <td>8117d2fbcd85266ea26fc9952b7b23c7</td>\n",
       "    </tr>\n",
       "    <tr>\n",
       "      <th>4</th>\n",
       "      <td>KDS000004</td>\n",
       "      <td>10428332</td>\n",
       "      <td>dorsal</td>\n",
       "      <td>melpomene</td>\n",
       "      <td>thelxiopeia</td>\n",
       "      <td>female</td>\n",
       "      <td>NaN</td>\n",
       "      <td>57427dc88037f13f257e3bf52942b2fc</td>\n",
       "    </tr>\n",
       "  </tbody>\n",
       "</table>\n",
       "</div>"
      ],
      "text/plain": [
       "          id  NHM specimen number     View    Species   Subspecies     Sex  \\\n",
       "0  KDS000000             10428329   dorsal  melpomene  thelxiopeia    male   \n",
       "1  KDS000001             10428329  ventral  melpomene  thelxiopeia    male   \n",
       "2  KDS000002             10428331   dorsal  melpomene  thelxiopeia  female   \n",
       "3  KDS000003             10428331  ventral  melpomene  thelxiopeia  female   \n",
       "4  KDS000004             10428332   dorsal  melpomene  thelxiopeia  female   \n",
       "\n",
       "  Type Status                               md5  \n",
       "0         NaN  bfe69135302b78cef66df623ddb5befd  \n",
       "1         NaN  c860654219c233d353277b049610bae4  \n",
       "2         NaN  e721585817681ef60e5d0ab81ca00cfd  \n",
       "3         NaN  8117d2fbcd85266ea26fc9952b7b23c7  \n",
       "4         NaN  57427dc88037f13f257e3bf52942b2fc  "
      ]
     },
     "execution_count": 3,
     "metadata": {},
     "output_type": "execute_result"
    }
   ],
   "source": [
    "df.head()"
   ]
  },
  {
   "cell_type": "code",
   "execution_count": 4,
   "metadata": {},
   "outputs": [
    {
     "data": {
      "text/plain": [
       "Type Status\n",
       "HT    2\n",
       "Name: count, dtype: int64"
      ]
     },
     "execution_count": 4,
     "metadata": {},
     "output_type": "execute_result"
    }
   ],
   "source": [
    "df[\"Type Status\"].value_counts()"
   ]
  },
  {
   "cell_type": "code",
   "execution_count": 5,
   "metadata": {},
   "outputs": [
    {
     "name": "stdout",
     "output_type": "stream",
     "text": [
      "We have 6 unique subspecies and Type Status is in\n"
     ]
    },
    {
     "data": {
      "text/plain": [
       "1"
      ]
     },
     "execution_count": 5,
     "metadata": {},
     "output_type": "execute_result"
    }
   ],
   "source": [
    "print(f\"We have {df.Subspecies.nunique()} unique subspecies and Type Status is in\")\n",
    "df.loc[df[\"Type Status\"].notna(), \"Subspecies\"].nunique()"
   ]
  },
  {
   "cell_type": "markdown",
   "metadata": {},
   "source": [
    "Nearly all of column `Type Status` is null, and it's only in one included subspecies. I believe it has to do with hybrids or species recognition, but we should probably ask a biologist....(Cue question to the room, fill in given answer and we'll drop) let's drop it.\n",
    "\n",
    "We'll make a note that it's being removed (in the Data Curation Section) since it's nearly all null and not applicable across the dataset."
   ]
  },
  {
   "cell_type": "code",
   "execution_count": 6,
   "metadata": {},
   "outputs": [],
   "source": [
    "cols = [col for col in list(df.columns) if col != \"Type Status\"]\n",
    "df = df[cols]"
   ]
  },
  {
   "cell_type": "code",
   "execution_count": 7,
   "metadata": {},
   "outputs": [
    {
     "data": {
      "text/html": [
       "<div>\n",
       "<style scoped>\n",
       "    .dataframe tbody tr th:only-of-type {\n",
       "        vertical-align: middle;\n",
       "    }\n",
       "\n",
       "    .dataframe tbody tr th {\n",
       "        vertical-align: top;\n",
       "    }\n",
       "\n",
       "    .dataframe thead th {\n",
       "        text-align: right;\n",
       "    }\n",
       "</style>\n",
       "<table border=\"1\" class=\"dataframe\">\n",
       "  <thead>\n",
       "    <tr style=\"text-align: right;\">\n",
       "      <th></th>\n",
       "      <th>id</th>\n",
       "      <th>NHM specimen number</th>\n",
       "      <th>View</th>\n",
       "      <th>Species</th>\n",
       "      <th>Subspecies</th>\n",
       "      <th>Sex</th>\n",
       "      <th>md5</th>\n",
       "    </tr>\n",
       "  </thead>\n",
       "  <tbody>\n",
       "    <tr>\n",
       "      <th>0</th>\n",
       "      <td>KDS000000</td>\n",
       "      <td>10428329</td>\n",
       "      <td>dorsal</td>\n",
       "      <td>melpomene</td>\n",
       "      <td>thelxiopeia</td>\n",
       "      <td>male</td>\n",
       "      <td>bfe69135302b78cef66df623ddb5befd</td>\n",
       "    </tr>\n",
       "    <tr>\n",
       "      <th>1</th>\n",
       "      <td>KDS000001</td>\n",
       "      <td>10428329</td>\n",
       "      <td>ventral</td>\n",
       "      <td>melpomene</td>\n",
       "      <td>thelxiopeia</td>\n",
       "      <td>male</td>\n",
       "      <td>c860654219c233d353277b049610bae4</td>\n",
       "    </tr>\n",
       "    <tr>\n",
       "      <th>2</th>\n",
       "      <td>KDS000002</td>\n",
       "      <td>10428331</td>\n",
       "      <td>dorsal</td>\n",
       "      <td>melpomene</td>\n",
       "      <td>thelxiopeia</td>\n",
       "      <td>female</td>\n",
       "      <td>e721585817681ef60e5d0ab81ca00cfd</td>\n",
       "    </tr>\n",
       "    <tr>\n",
       "      <th>3</th>\n",
       "      <td>KDS000003</td>\n",
       "      <td>10428331</td>\n",
       "      <td>ventral</td>\n",
       "      <td>melpomene</td>\n",
       "      <td>thelxiopeia</td>\n",
       "      <td>female</td>\n",
       "      <td>8117d2fbcd85266ea26fc9952b7b23c7</td>\n",
       "    </tr>\n",
       "    <tr>\n",
       "      <th>4</th>\n",
       "      <td>KDS000004</td>\n",
       "      <td>10428332</td>\n",
       "      <td>dorsal</td>\n",
       "      <td>melpomene</td>\n",
       "      <td>thelxiopeia</td>\n",
       "      <td>female</td>\n",
       "      <td>57427dc88037f13f257e3bf52942b2fc</td>\n",
       "    </tr>\n",
       "  </tbody>\n",
       "</table>\n",
       "</div>"
      ],
      "text/plain": [
       "          id  NHM specimen number     View    Species   Subspecies     Sex  \\\n",
       "0  KDS000000             10428329   dorsal  melpomene  thelxiopeia    male   \n",
       "1  KDS000001             10428329  ventral  melpomene  thelxiopeia    male   \n",
       "2  KDS000002             10428331   dorsal  melpomene  thelxiopeia  female   \n",
       "3  KDS000003             10428331  ventral  melpomene  thelxiopeia  female   \n",
       "4  KDS000004             10428332   dorsal  melpomene  thelxiopeia  female   \n",
       "\n",
       "                                md5  \n",
       "0  bfe69135302b78cef66df623ddb5befd  \n",
       "1  c860654219c233d353277b049610bae4  \n",
       "2  e721585817681ef60e5d0ab81ca00cfd  \n",
       "3  8117d2fbcd85266ea26fc9952b7b23c7  \n",
       "4  57427dc88037f13f257e3bf52942b2fc  "
      ]
     },
     "execution_count": 7,
     "metadata": {},
     "output_type": "execute_result"
    }
   ],
   "source": [
    "df.head()"
   ]
  },
  {
   "cell_type": "markdown",
   "metadata": {},
   "source": [
    "## Rename Column with Space\n",
    "\n",
    "Spaces in column names makes things more complicated, so let's simplify the `NHM specimen number` column name (we will need to document that too).\n"
   ]
  },
  {
   "cell_type": "code",
   "execution_count": 8,
   "metadata": {},
   "outputs": [],
   "source": [
    "df.rename(columns= {\"NHM specimen number\": \"NHM_specimen_number\"}, inplace = True)"
   ]
  },
  {
   "cell_type": "markdown",
   "metadata": {},
   "source": [
    "Fred said Shaggy's data had some duplication, so let's check on our unique values here."
   ]
  },
  {
   "cell_type": "code",
   "execution_count": 9,
   "metadata": {},
   "outputs": [
    {
     "data": {
      "text/plain": [
       "id                     110\n",
       "NHM_specimen_number     38\n",
       "View                     4\n",
       "Species                  2\n",
       "Subspecies               6\n",
       "Sex                      4\n",
       "md5                     76\n",
       "dtype: int64"
      ]
     },
     "execution_count": 9,
     "metadata": {},
     "output_type": "execute_result"
    }
   ],
   "source": [
    "df.nunique()"
   ]
  },
  {
   "cell_type": "markdown",
   "metadata": {},
   "source": [
    "It seems we only actually have 76 unique images of 38 specimens.\n",
    "\n",
    "What are all those different views? And different sexes?"
   ]
  },
  {
   "cell_type": "code",
   "execution_count": 10,
   "metadata": {},
   "outputs": [
    {
     "name": "stdout",
     "output_type": "stream",
     "text": [
      "['dorsal' 'ventral' 'Ventral' 'dorsal ']\n",
      "['male' 'female' 'Female' 'male ']\n"
     ]
    }
   ],
   "source": [
    "print(df.View.unique())\n",
    "print(df.Sex.unique())"
   ]
  },
  {
   "cell_type": "markdown",
   "metadata": {},
   "source": [
    "Ah, we have `dorsal` and `dorsal ` in addition to variations in case for the `ventral` label. Similar issue with `male` and `female` labels.\n",
    "\n",
    "Let's standardize all of these to just the lowercase without a trailing space."
   ]
  },
  {
   "cell_type": "code",
   "execution_count": 11,
   "metadata": {},
   "outputs": [
    {
     "name": "stdout",
     "output_type": "stream",
     "text": [
      "View\n",
      "dorsal     55\n",
      "ventral    55\n",
      "Name: count, dtype: int64\n"
     ]
    },
    {
     "data": {
      "text/plain": [
       "Sex\n",
       "male      64\n",
       "female    46\n",
       "Name: count, dtype: int64"
      ]
     },
     "execution_count": 11,
     "metadata": {},
     "output_type": "execute_result"
    }
   ],
   "source": [
    "df[\"View\"] = df.View.str.lower()\n",
    "df[\"Sex\"] = df.Sex.str.lower()\n",
    "df.loc[df[\"View\"] == \"dorsal \", \"View\"] = \"dorsal\"\n",
    "df.loc[df[\"Sex\"] == \"male \", \"Sex\"] = \"male\"\n",
    "\n",
    "# Now look at distribution\n",
    "print(df.View.value_counts())\n",
    "df.Sex.value_counts()"
   ]
  },
  {
   "cell_type": "markdown",
   "metadata": {},
   "source": [
    "That's a bit cleaner, but we still have a disagreement between unique IDs, specimen numbers, and MD5s!\n",
    "\n",
    "We don't want to lose metadata or keep an incorrect labelling, so let's check the duplication on MD5, View, Species, and Subspecies values.\n",
    "We'll check all the duplicates as a whole first."
   ]
  },
  {
   "cell_type": "code",
   "execution_count": 12,
   "metadata": {},
   "outputs": [
    {
     "data": {
      "text/plain": [
       "duplicates\n",
       "True     68\n",
       "False    42\n",
       "Name: count, dtype: int64"
      ]
     },
     "execution_count": 12,
     "metadata": {},
     "output_type": "execute_result"
    }
   ],
   "source": [
    "df[\"duplicates\"] = df.duplicated(\"md5\", keep = False)\n",
    "df[\"duplicates\"].value_counts()"
   ]
  },
  {
   "cell_type": "code",
   "execution_count": 13,
   "metadata": {},
   "outputs": [
    {
     "data": {
      "text/plain": [
       "id                     68\n",
       "NHM_specimen_number    17\n",
       "View                    2\n",
       "Species                 2\n",
       "Subspecies              3\n",
       "Sex                     2\n",
       "md5                    34\n",
       "duplicates              1\n",
       "dtype: int64"
      ]
     },
     "execution_count": 13,
     "metadata": {},
     "output_type": "execute_result"
    }
   ],
   "source": [
    "duplicates = df.loc[df[\"duplicates\"]]\n",
    "duplicates.nunique()"
   ]
  },
  {
   "cell_type": "markdown",
   "metadata": {},
   "source": [
    "So all of our `id`s are unique, but we seem to have duplicates of 34 images. This is across both species, sexes, and views, as well as 3 of the 6 subspecies.\n",
    "\n",
    "Let's check for consistency across this metadata for each image."
   ]
  },
  {
   "cell_type": "code",
   "execution_count": 14,
   "metadata": {},
   "outputs": [
    {
     "data": {
      "text/plain": [
       "False    34\n",
       "True     34\n",
       "Name: count, dtype: int64"
      ]
     },
     "execution_count": 14,
     "metadata": {},
     "output_type": "execute_result"
    }
   ],
   "source": [
    "STATS_COLS = [\"NHM_specimen_number\", \"Species\", \"Subspecies\", \"View\", \"Sex\", \"md5\"]\n",
    "duplicates.duplicated(STATS_COLS, keep = \"first\").value_counts()"
   ]
  },
  {
   "cell_type": "markdown",
   "metadata": {},
   "source": [
    "Great, it's an even split, so we'll just keep the first instance of each."
   ]
  },
  {
   "cell_type": "code",
   "execution_count": 15,
   "metadata": {},
   "outputs": [
    {
     "data": {
      "text/plain": [
       "duplicates\n",
       "False    76\n",
       "True     34\n",
       "Name: count, dtype: int64"
      ]
     },
     "execution_count": 15,
     "metadata": {},
     "output_type": "execute_result"
    }
   ],
   "source": [
    "df[\"duplicates\"] = df.duplicated(STATS_COLS, keep = \"first\")\n",
    "df[\"duplicates\"].value_counts()"
   ]
  },
  {
   "cell_type": "code",
   "execution_count": 16,
   "metadata": {},
   "outputs": [
    {
     "name": "stdout",
     "output_type": "stream",
     "text": [
      "<class 'pandas.core.frame.DataFrame'>\n",
      "Index: 76 entries, 0 to 75\n",
      "Data columns (total 8 columns):\n",
      " #   Column               Non-Null Count  Dtype \n",
      "---  ------               --------------  ----- \n",
      " 0   id                   76 non-null     object\n",
      " 1   NHM_specimen_number  76 non-null     int64 \n",
      " 2   View                 76 non-null     object\n",
      " 3   Species              76 non-null     object\n",
      " 4   Subspecies           76 non-null     object\n",
      " 5   Sex                  76 non-null     object\n",
      " 6   md5                  76 non-null     object\n",
      " 7   duplicates           76 non-null     bool  \n",
      "dtypes: bool(1), int64(1), object(6)\n",
      "memory usage: 4.8+ KB\n"
     ]
    }
   ],
   "source": [
    "cleaned_df = df.loc[~df[\"duplicates\"]]\n",
    "cleaned_df.info()"
   ]
  },
  {
   "cell_type": "code",
   "execution_count": 17,
   "metadata": {},
   "outputs": [
    {
     "data": {
      "text/plain": [
       "id                     76\n",
       "NHM_specimen_number    38\n",
       "View                    2\n",
       "Species                 2\n",
       "Subspecies              6\n",
       "Sex                     2\n",
       "md5                    76\n",
       "duplicates              1\n",
       "dtype: int64"
      ]
     },
     "execution_count": 17,
     "metadata": {},
     "output_type": "execute_result"
    }
   ],
   "source": [
    "cleaned_df.nunique()"
   ]
  },
  {
   "cell_type": "code",
   "execution_count": 18,
   "metadata": {},
   "outputs": [],
   "source": [
    "# Remove duplicates column (only run once!)\n",
    "cleaned_df = cleaned_df[list(cleaned_df.columns)[:-1]]"
   ]
  },
  {
   "cell_type": "markdown",
   "metadata": {},
   "source": [
    "### Check Distribution of Data"
   ]
  },
  {
   "cell_type": "code",
   "execution_count": 19,
   "metadata": {},
   "outputs": [
    {
     "data": {
      "text/plain": [
       "<Axes: xlabel='Count', ylabel='Subspecies'>"
      ]
     },
     "execution_count": 19,
     "metadata": {},
     "output_type": "execute_result"
    },
    {
     "data": {
      "image/png": "[encoded data removed]",
      "text/plain": [
       "<Figure size 640x480 with 1 Axes>"
      ]
     },
     "metadata": {},
     "output_type": "display_data"
    }
   ],
   "source": [
    "sns.histplot(cleaned_df, y = \"Subspecies\", hue = \"Species\")"
   ]
  },
  {
   "cell_type": "code",
   "execution_count": 20,
   "metadata": {},
   "outputs": [
    {
     "data": {
      "text/plain": [
       "<Axes: xlabel='Count', ylabel='Subspecies'>"
      ]
     },
     "execution_count": 20,
     "metadata": {},
     "output_type": "execute_result"
    },
    {
     "data": {
      "image/png": "[encoded data removed]",
      "text/plain": [
       "<Figure size 640x480 with 1 Axes>"
      ]
     },
     "metadata": {},
     "output_type": "display_data"
    }
   ],
   "source": [
    "sns.histplot(cleaned_df, y = \"Subspecies\", hue = \"View\")"
   ]
  },
  {
   "cell_type": "markdown",
   "metadata": {},
   "source": [
    "We have perfect balance of dorsal and ventral images."
   ]
  },
  {
   "cell_type": "code",
   "execution_count": 21,
   "metadata": {},
   "outputs": [
    {
     "data": {
      "text/plain": [
       "<Axes: xlabel='Count', ylabel='Subspecies'>"
      ]
     },
     "execution_count": 21,
     "metadata": {},
     "output_type": "execute_result"
    },
    {
     "data": {
      "image/png": "[encoded data removed]",
      "text/plain": [
       "<Figure size 640x480 with 1 Axes>"
      ]
     },
     "metadata": {},
     "output_type": "display_data"
    }
   ],
   "source": [
    "sns.histplot(cleaned_df, y = \"Subspecies\", hue = \"Sex\")"
   ]
  },
  {
   "cell_type": "markdown",
   "metadata": {},
   "source": [
    "We can't train an unbiased model to predict sex with only one sex represented for a subspecies, so we'll remove `amalfreda` and `lativitta` until we can maybe get more data in the future, but first let's save the cleaned dataset as it may be useful elsewhere."
   ]
  },
  {
   "cell_type": "markdown",
   "metadata": {},
   "source": [
    "### Save Master Dataset File\n",
    "\n",
    "Let's save this cleaned up dataset file for easier reference later."
   ]
  },
  {
   "cell_type": "code",
   "execution_count": 21,
   "metadata": {},
   "outputs": [],
   "source": [
    "cleaned_df.to_csv(\"../data/kydoimos_cleaned.csv\", index = False)"
   ]
  },
  {
   "cell_type": "markdown",
   "metadata": {},
   "source": [
    "## Make Splits\n",
    "\n",
    "Remove skewed subspecies."
   ]
  },
  {
   "cell_type": "code",
   "execution_count": 22,
   "metadata": {},
   "outputs": [
    {
     "data": {
      "text/plain": [
       "id                     50\n",
       "NHM_specimen_number    25\n",
       "View                    2\n",
       "Species                 2\n",
       "Subspecies              4\n",
       "Sex                     2\n",
       "md5                    50\n",
       "dtype: int64"
      ]
     },
     "execution_count": 22,
     "metadata": {},
     "output_type": "execute_result"
    }
   ],
   "source": [
    "skewed_ssp = [\"amalfreda\", \"lativitta\"]\n",
    "reduced_df = cleaned_df.loc[~cleaned_df[\"Subspecies\"].isin(skewed_ssp)].copy()\n",
    "\n",
    "reduced_df.nunique()"
   ]
  },
  {
   "cell_type": "code",
   "execution_count": 23,
   "metadata": {},
   "outputs": [
    {
     "data": {
      "text/plain": [
       "array(['thelxiopeia', 'melpomene', 'guarica', 'etylus'], dtype=object)"
      ]
     },
     "execution_count": 23,
     "metadata": {},
     "output_type": "execute_result"
    }
   ],
   "source": [
    "# Get list of subspecies included for Dataset Card\n",
    "reduced_df.Subspecies.unique()"
   ]
  },
  {
   "cell_type": "markdown",
   "metadata": {},
   "source": [
    "Before we can make our splits, let's separate out a dorsal subset from the ventral. This way we can maintain uniqueness of specimens across splits. We'll add in the ventral images to each split based on specimen ID being in the training list or the test list for the dorsal images."
   ]
  },
  {
   "cell_type": "code",
   "execution_count": 24,
   "metadata": {},
   "outputs": [
    {
     "data": {
      "text/plain": [
       "id                     25\n",
       "NHM_specimen_number    25\n",
       "View                    1\n",
       "Species                 2\n",
       "Subspecies              4\n",
       "Sex                     2\n",
       "md5                    25\n",
       "dtype: int64"
      ]
     },
     "execution_count": 24,
     "metadata": {},
     "output_type": "execute_result"
    }
   ],
   "source": [
    "dorsal_df = reduced_df.loc[reduced_df[\"View\"] == \"dorsal\"].copy()\n",
    "\n",
    "# Quick check on uniqueness within this subset\n",
    "dorsal_df.nunique()"
   ]
  },
  {
   "cell_type": "code",
   "execution_count": 25,
   "metadata": {},
   "outputs": [
    {
     "data": {
      "text/plain": [
       "<Axes: xlabel='Count', ylabel='Subspecies'>"
      ]
     },
     "execution_count": 25,
     "metadata": {},
     "output_type": "execute_result"
    },
    {
     "data": {
      "image/png": "[encoded data removed]",
      "text/plain": [
       "<Figure size 640x480 with 1 Axes>"
      ]
     },
     "metadata": {},
     "output_type": "display_data"
    }
   ],
   "source": [
    "sns.histplot(dorsal_df, y = \"Subspecies\", hue = \"Sex\")"
   ]
  },
  {
   "cell_type": "markdown",
   "metadata": {},
   "source": [
    "It's still not balanced so let's stratify on `Sex` and `Species` (close enough balance), set a `random_state` for reproducibility.\n",
    "\n",
    "Not a large enough sample of images for stratifying on `Subspecies` (as we should)-—`stratify` ensures split distributions are representative of the distributions in the data"
   ]
  },
  {
   "cell_type": "code",
   "execution_count": 26,
   "metadata": {},
   "outputs": [],
   "source": [
    "train_df, test_df = train_test_split(dorsal_df, \n",
    "                                     test_size = .2,\n",
    "                                     stratify = dorsal_df[[\"Sex\", \"Species\"]],\n",
    "                                     random_state = 614)"
   ]
  },
  {
   "cell_type": "markdown",
   "metadata": {},
   "source": [
    "### Add Ventral Images to Splits\n",
    "\n",
    "Let's get a list of each split's specimen IDs so we can align all our images accordingly."
   ]
  },
  {
   "cell_type": "code",
   "execution_count": 27,
   "metadata": {},
   "outputs": [],
   "source": [
    "#train_ids = list(train_df[\"NHM_specimen_number\"].unique())\n",
    "test_ids = list(test_df[\"NHM_specimen_number\"].unique())"
   ]
  },
  {
   "cell_type": "code",
   "execution_count": 28,
   "metadata": {},
   "outputs": [
    {
     "data": {
      "text/plain": [
       "split\n",
       "train    40\n",
       "test     10\n",
       "Name: count, dtype: int64"
      ]
     },
     "execution_count": 28,
     "metadata": {},
     "output_type": "execute_result"
    }
   ],
   "source": [
    "# Now assign images\n",
    "reduced_df[\"split\"] = \"train\"\n",
    "reduced_df.loc[reduced_df[\"NHM_specimen_number\"].isin(test_ids), \"split\"] = \"test\"\n",
    "\n",
    "# Check\n",
    "reduced_df.split.value_counts()"
   ]
  },
  {
   "cell_type": "markdown",
   "metadata": {},
   "source": [
    "We have a nice 80-20 split that should be representative of our data and will not have any data leakage as we have removed duplicate images and assigned all images of a specimen to the same split."
   ]
  },
  {
   "cell_type": "markdown",
   "metadata": {},
   "source": [
    "### Save our Completed Dataset\n",
    "\n",
    "Let's save this dataset with the split column. We can start thinking about training now!"
   ]
  },
  {
   "cell_type": "code",
   "execution_count": 29,
   "metadata": {},
   "outputs": [],
   "source": [
    "reduced_df.to_csv(\"../data/ButterflyImages_metadata.csv\", index = False)"
   ]
  },
  {
   "cell_type": "code",
   "execution_count": null,
   "metadata": {},
   "outputs": [],
   "source": []
  }
 ],
 "metadata": {
  "jupytext": {
   "formats": "ipynb,py:percent"
  },
  "kernelspec": {
   "display_name": "Python 3 (ipykernel)",
   "language": "python",
   "name": "python3"
  },
  "language_info": {
   "codemirror_mode": {
    "name": "ipython",
    "version": 3
   },
   "file_extension": ".py",
   "mimetype": "text/x-python",
   "name": "python",
   "nbconvert_exporter": "python",
   "pygments_lexer": "ipython3",
   "version": "3.11.3"
  }
 },
 "nbformat": 4,
 "nbformat_minor": 4
}
