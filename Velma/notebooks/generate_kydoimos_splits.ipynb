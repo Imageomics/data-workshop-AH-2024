{
 "cells": [
  {
   "cell_type": "code",
   "execution_count": null,
   "metadata": {},
   "outputs": [],
   "source": [
    "import pandas as pd\n",
    "import seaborn as sns\n",
    "\n",
    "# We'll be making splits after cleaning\n",
    "from sklearn.model_selection import train_test_split\n",
    "\n",
    "sns.set_style(\"whitegrid\")"
   ]
  },
  {
   "cell_type": "markdown",
   "metadata": {},
   "source": [
    "# Explore Original Dataset\n",
    "\n",
    "Shaggy pulled his dataset from [johnbradley/Kydoimos](https://huggingface.co/datasets/johnbradley/Kydoimos). There's not much information there, but we can at least look at the original data and sort through it to get a usable dataset. The MD5s from Fred's attempt at re-alignment will be particularly helpful!\n",
    "\n",
    "**DISCLAIMER:** This is a toy example intended to demonstrate real-world challenges in data collection & curation in a digestible format; in reality, more data would be required for such a project."
   ]
  },
  {
   "cell_type": "code",
   "execution_count": null,
   "metadata": {},
   "outputs": [],
   "source": [
    "df = pd.read_csv(\"../data/kydoimos.csv\", low_memory = False)\n",
    "df.info()"
   ]
  }
 ],
 "metadata": {
  "jupytext": {
   "formats": "ipynb,py:percent"
  },
  "kernelspec": {
   "display_name": "Python 3 (ipykernel)",
   "language": "python",
   "name": "python3"
  },
  "language_info": {
   "codemirror_mode": {
    "name": "ipython",
    "version": 3
   },
   "file_extension": ".py",
   "mimetype": "text/x-python",
   "name": "python",
   "nbconvert_exporter": "python",
   "pygments_lexer": "ipython3",
   "version": "3.11.3"
  }
 },
 "nbformat": 4,
 "nbformat_minor": 4
}
